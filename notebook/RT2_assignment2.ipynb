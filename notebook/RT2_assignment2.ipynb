{
 "cells": [
  {
   "cell_type": "code",
   "execution_count": 1,
   "id": "624ada61",
   "metadata": {
    "scrolled": true
   },
   "outputs": [],
   "source": [
    "#LIBRARIES"
   ]
  },
  {
   "cell_type": "code",
   "execution_count": 2,
   "id": "f32667dc",
   "metadata": {},
   "outputs": [],
   "source": [
    "import matplotlib as mpl\n",
    "import matplotlib.pyplot as plt\n",
    "from matplotlib import animation\n",
    "\n",
    "import numpy as np\n",
    "import math\n",
    "%matplotlib widget\n",
    "\n",
    "import ipywidgets as widgets\n",
    "from jupyros import ros3d\n",
    "from ipywidgets import Button, ButtonStyle, FloatSlider, Layout, VBox, GridBox, HBox \n",
    "\n",
    "import jupyros as jr\n",
    "import rospy\n",
    "\n",
    "from nav_msgs.msg import Odometry\n",
    "from geometry_msgs.msg import Twist\n",
    "from std_msgs.msg import String\n",
    "from rt2_assignment1.srv import Command, Velocity\n",
    "\n",
    "from IPython.display import display\n",
    "\n",
    "from tf import transformations"
   ]
  },
  {
   "cell_type": "code",
   "execution_count": 3,
   "id": "27323080",
   "metadata": {},
   "outputs": [],
   "source": [
    "#DIRECTIONAL COMMANDS (MANUAL)"
   ]
  },
  {
   "cell_type": "code",
   "execution_count": 4,
   "id": "ac033165",
   "metadata": {},
   "outputs": [],
   "source": [
    "class Control_direction:\n",
    "    \n",
    "    def __init__(self, linear_slider, angular_slider):\n",
    "        \n",
    "        self.velocity_pub = rospy.Publisher('/cmd_vel', Twist, queue_size=1)\n",
    "        self.twist = Twist()\n",
    "        self.foward = 0.0\n",
    "        self.turn = 0.0\n",
    "        \n",
    "        self.linear_slider = linear_slider\n",
    "        self.angular_slider = angular_slider\n",
    "        \n",
    "    def stop(self):\n",
    "        self.foward = 0.0\n",
    "        self.turn = 0.0\n",
    "    \n",
    "    def forward(self):\n",
    "        self.foward = 1.0\n",
    "        self.turn = 0.0\n",
    "        \n",
    "    def backward(self):\n",
    "        self.foward = -1.0\n",
    "        self.turn = 0.0\n",
    "    \n",
    "    def CW(self):           #Clock wise\n",
    "        self.foward = 0.0\n",
    "        self.turn = 1.0\n",
    "    \n",
    "    def CCW(self):          #Counter clock wise\n",
    "        self.foward = 0.0\n",
    "        self.turn = -1.0\n",
    "           \n",
    "    def Twist_pub(self):\n",
    "        self.twist.angular.z = self.turn*angular_slider.value\n",
    "        self.twist.linear.x = self.foward*linear_slider.value        \n",
    "        \n",
    "        self.velocity_pub.publish(self.twist)"
   ]
  },
  {
   "cell_type": "code",
   "execution_count": 5,
   "id": "1fcd7e38",
   "metadata": {},
   "outputs": [],
   "source": [
    "class Store_value(list):\n",
    "    \n",
    "    def append(self, data):\n",
    "        super().append(data)\n",
    "        if super().__len__() > self.max_size:\n",
    "            super().pop(0)    \n",
    "            \n",
    "    def __init__(self, max_size, space=[]):\n",
    "        super().__init__(space)\n",
    "        self.max_size = max_size    "
   ]
  },
  {
   "cell_type": "code",
   "execution_count": 6,
   "id": "4ba8184f",
   "metadata": {},
   "outputs": [],
   "source": [
    "#GLOBAL VARIABLES"
   ]
  },
  {
   "cell_type": "code",
   "execution_count": 7,
   "id": "7feb2381",
   "metadata": {},
   "outputs": [],
   "source": [
    "from enum import Enum\n",
    "output = widgets.Output()\n",
    "\n",
    "# Initial values for the velocities\n",
    "linear_value = 0.5\n",
    "angular_value = 0.5\n",
    "\n",
    "# Variables to store values\n",
    "\n",
    "odom_max_size = 1000\n",
    "odom_max_x = Store_value(odom_max_size)\n",
    "odom_max_y = Store_value(odom_max_size)\n",
    "odom_max_rot = 0\n",
    "\n",
    "vel_max_size = 100\n",
    "\n",
    "vel_x_ = Store_value(vel_max_size, [linear_value]*vel_max_size)\n",
    "odom_vel_x = Store_value(vel_max_size, [0]*vel_max_size)\n",
    "\n",
    "vel_w_ = Store_value(vel_max_size, [angular_value]*vel_max_size)\n",
    "odom_vel_w = Store_value(vel_max_size, [0]*vel_max_size)\n",
    "\n",
    "t = np.linspace(0, 1, vel_max_size)\n",
    "\n",
    "class RUN(Enum):\n",
    "    STOP = 0\n",
    "    START  = 1\n",
    "    ARROW  = 2\n",
    "\n",
    "run  = RUN.STOP\n",
    "# /user_interface Client service\n",
    "ui_client = None\n",
    "vel_client = None"
   ]
  },
  {
   "cell_type": "code",
   "execution_count": 8,
   "id": "de40dbf4",
   "metadata": {},
   "outputs": [],
   "source": [
    "#SLIDER VELOCITY COMMAND (MANUAL)"
   ]
  },
  {
   "cell_type": "code",
   "execution_count": 9,
   "id": "95fd047b",
   "metadata": {
    "scrolled": true
   },
   "outputs": [],
   "source": [
    "max_vel_ = 2.0\n",
    "linear_slider = widgets.FloatSlider(description = 'Linear Velocity')#, value = linear_value)\n",
    "angular_slider = widgets.FloatSlider(description = 'Angular Velocity')#, value = angular_value)\n",
    "\n",
    "VBox([linear_slider, angular_slider])\n",
    "\n",
    "def change_linear_vel(vel):\n",
    "    vel_client(vel[\"new\"], vel_w_[-1])\n",
    "\n",
    "def change_angular_vel(vel):\n",
    "    vel_client(vel_x_[-1], vel[\"new\"])\n",
    "    \n",
    "def printf(linear_slider, angular_slider):\n",
    "\tprint('{}*{}'.format(linear_slider, angular_slider))\n",
    "\n",
    "#out1 = widgets.interactive_output(change_linear_vel, {'Linear Velocity': linear_slider})\n",
    "#out2 = widgets.interactive_output(change_angular_vel, {'Angular Velocity': angular_slider})\n",
    "\n",
    "#widgets.HBox([widgets.VBox([linear_slider]), out1])\n",
    "#widgets.HBox([widgets.VBox([angular_slider]), out2])\n",
    "\n",
    "linear_slider.observe(change_linear_vel, names='value')\n",
    "angular_slider.observe(change_angular_vel, names='value')"
   ]
  },
  {
   "cell_type": "code",
   "execution_count": 10,
   "id": "9f20c326",
   "metadata": {},
   "outputs": [],
   "source": [
    "#START/STOP BUTTOM COMMAND (MANUAL)"
   ]
  },
  {
   "cell_type": "code",
   "execution_count": 11,
   "id": "319359d7",
   "metadata": {},
   "outputs": [
    {
     "data": {
      "application/vnd.jupyter.widget-view+json": {
       "model_id": "0684ace326e94821810f0c143024a04a",
       "version_major": 2,
       "version_minor": 0
      },
      "text/plain": [
       "GridBox(children=(Button(description='STOP', layout=Layout(grid_area='button_stop', width='auto'), style=Butto…"
      ]
     },
     "metadata": {},
     "output_type": "display_data"
    }
   ],
   "source": [
    "button_stop  = Button(description='STOP',\n",
    "               layout=Layout(width='auto', align=\"center\", grid_area='button_stop'),\n",
    "               style=ButtonStyle(button_color='red'))\n",
    "\n",
    "button_start  = Button(description='START',\n",
    "                layout=Layout(width='auto', grid_area='button_start'),\n",
    "                style=ButtonStyle(button_color='green'))\n",
    "\n",
    "HBox([button_start, button_stop])\n",
    "\n",
    "GridBox(children=[button_stop, button_start],\n",
    "        layout=Layout(\n",
    "        width='100%',\n",
    "        grid_template_rows='auto auto',\n",
    "        grid_template_columns='0% 25%',\n",
    "        grid_template_areas='''\n",
    "        \". button_stop .\"\n",
    "        \". button_start .\"\n",
    "        ''')\n",
    "       )\n"
   ]
  },
  {
   "cell_type": "code",
   "execution_count": 12,
   "id": "a0a06fd0",
   "metadata": {},
   "outputs": [],
   "source": [
    "#DIRECTIONAL BUTTOM COMMANDS (MANUAL)"
   ]
  },
  {
   "cell_type": "code",
   "execution_count": 13,
   "id": "4e927d22",
   "metadata": {
    "scrolled": true
   },
   "outputs": [
    {
     "data": {
      "application/vnd.jupyter.widget-view+json": {
       "model_id": "6911b5a83aa04937a8b1c2e848c9ec23",
       "version_major": 2,
       "version_minor": 0
      },
      "text/plain": [
       "GridBox(children=(Button(description='↑', layout=Layout(grid_area='button_foward', width='auto'), style=Button…"
      ]
     },
     "metadata": {},
     "output_type": "display_data"
    }
   ],
   "source": [
    "button_foward = Button(description='\\u2191', #Unicode Character 'UPWARDS ARROW' (U+2191)\n",
    "                 layout=Layout(width='auto', grid_area='button_foward'),                        \n",
    "                 style=ButtonStyle(button_color='lightgray'))\n",
    "\n",
    "button_backwards = Button(description='\\u2193', #Unicode Character 'DOWNWARDS ARROW' (U+2193)\n",
    "                 layout=Layout(width='auto', grid_area='button_backwards'),\n",
    "                 style=ButtonStyle(button_color='lightgray'))\n",
    "\n",
    "button_right = Button(description='\\u2192', #Unicode Character 'RIGHTWARDS ARROW' (U+2192)\n",
    "                 layout=Layout(width='auto', grid_area='button_right'),\n",
    "                 style=ButtonStyle(button_color='lightgray'))\n",
    "\n",
    "button_left = Button(description='\\u2190', #Unicode Character 'LEFTWARDS ARROW' (U+2190)\n",
    "                 layout=Layout(width='auto', grid_area='button_left'),\n",
    "                 style=ButtonStyle(button_color='lightgray'))\n",
    "\n",
    "HBox([button_foward, button_backwards, button_left, button_right])\n",
    "\n",
    "GridBox(children=[button_foward, button_backwards, button_left, button_right],\n",
    "        layout=Layout(\n",
    "        width='100%',\n",
    "        grid_template_rows='auto auto auto',\n",
    "        grid_template_columns='25% 25% 25%',\n",
    "        grid_template_areas='''\n",
    "        \". button_foward .\"\n",
    "        \"button_left . button_right\"\n",
    "        \". button_backwards .\"\n",
    "        ''')\n",
    "       )"
   ]
  },
  {
   "cell_type": "code",
   "execution_count": 14,
   "id": "93221733",
   "metadata": {},
   "outputs": [],
   "source": [
    "# CALLBACK FUNCTIONS"
   ]
  },
  {
   "cell_type": "code",
   "execution_count": 15,
   "id": "6568002d",
   "metadata": {},
   "outputs": [],
   "source": [
    "pad = Control_direction(linear_slider, angular_slider) \n",
    "    \n",
    "def robot_stop(buttom):\n",
    "\n",
    "    global run\n",
    "    if run ==  RUN.START:\n",
    "        ui_client(\"stop\")\n",
    "    elif run == RUN.ARROW:\n",
    "        pad.stop()\n",
    "        pad.Twist_pub()\n",
    "    \n",
    "    run = RUN.STOP\n",
    "    \n",
    "def robot_start(buttom):\n",
    "\n",
    "    global run\n",
    "    if run != RUN.START:\n",
    "        ui_client(\"start\")\n",
    "        run = RUN.START        \n",
    "        \n",
    "def command_buttons(buttom):\n",
    "\n",
    "    global run\n",
    "\n",
    "    if run == RUN.START:\n",
    "        robot_stop(buttom)\n",
    "        \n",
    "    if buttom.layout.grid_area == 'button_foward':\n",
    "        pad.forward()\n",
    "    elif buttom.layout.grid_area == 'button_backwards':\n",
    "        pad.backward()\n",
    "    elif buttom.layout.grid_area == 'button_right':\n",
    "        pad.CW()\n",
    "    elif buttom.layout.grid_area == 'button_left':\n",
    "        pad.CCW()\n",
    "    else:\n",
    "        return\n",
    "    \n",
    "    run = RUN.ARROW    \n",
    "\n",
    "def odometry_callback(msg):\n",
    "    global odom_max_rot, odom_max_x, odom_max_y\n",
    "    \n",
    "    global run\n",
    "    \n",
    "    odom_max_x.append(msg.pose.pose.position.x)\n",
    "    odom_max_y.append(msg.pose.pose.position.y)\n",
    "    \n",
    "    quaternion = (\n",
    "        msg.pose.pose.orientation.x,\n",
    "        msg.pose.pose.orientation.y,\n",
    "        msg.pose.pose.orientation.z,\n",
    "        msg.pose.pose.orientation.w)\n",
    "    euler = transformations.euler_from_quaternion(quaternion)\n",
    "    odom_max_rot = euler[2]\n",
    "    \n",
    "    vel_x_.append(linear_slider.value)\n",
    "    vel_w_.append(angular_slider.value)\n",
    "    \n",
    "    odom_vel_x.append(msg.twist.twist.linear.x)   \n",
    "    odom_vel_w.append(msg.twist.twist.angular.z)\n",
    "    \n",
    "    if run == RUN.ARROW:\n",
    "        pad.Twist_pub()"
   ]
  },
  {
   "cell_type": "code",
   "execution_count": 16,
   "id": "b8a99e7e",
   "metadata": {},
   "outputs": [],
   "source": [
    "#BUTTONS COMMUNICATION"
   ]
  },
  {
   "cell_type": "code",
   "execution_count": 17,
   "id": "ab102b83",
   "metadata": {},
   "outputs": [],
   "source": [
    "button_start.on_click(robot_start)\n",
    "button_foward.on_click(command_buttons)\n",
    "button_backwards.on_click(command_buttons)\n",
    "button_right.on_click(command_buttons)\n",
    "button_left.on_click(command_buttons)"
   ]
  },
  {
   "cell_type": "code",
   "execution_count": 18,
   "id": "db932ad3",
   "metadata": {},
   "outputs": [],
   "source": [
    "#ROS NODE"
   ]
  },
  {
   "cell_type": "code",
   "execution_count": 19,
   "id": "efab38e5",
   "metadata": {},
   "outputs": [],
   "source": [
    "rospy.init_node(\"jupyter_user_interface\")\n",
    "\n",
    "sub = rospy.Subscriber('/odom', Odometry, odometry_callback)\n",
    "\n",
    "rospy.wait_for_service('/vel')\n",
    "vel_client = rospy.ServiceProxy('/vel', Velocity)\n",
    "\n",
    "rospy.wait_for_service('/user_interface')\n",
    "ui_client = rospy.ServiceProxy('/user_interface', Command)"
   ]
  },
  {
   "cell_type": "code",
   "execution_count": 20,
   "id": "7cd42855",
   "metadata": {},
   "outputs": [],
   "source": [
    "#ROS ACTION"
   ]
  },
  {
   "cell_type": "code",
   "execution_count": 21,
   "id": "ddf184eb",
   "metadata": {},
   "outputs": [],
   "source": [
    "from rt2_assignment1.msg import Assignment1ActionResult\n",
    "\n",
    "goal = {'reached':0, 'canceled':0}\n",
    "time = [] #empty\n",
    "\n",
    "def goal_callback(msg):\n",
    "    global goal\n",
    "    \n",
    "    if msg.result.result:\n",
    "        goal['reached'] = goal['reached'] + goal['reached']\n",
    "        duration = msg.header.stamp - msg.status.goal_id.stamp\n",
    "        time.append(duration.to_sec())\n",
    "    else:\n",
    "        goal['canceled'] = goal['canceled'] + goal['reached']\n",
    "\n",
    "goal_result = rospy.Subscriber('/go_to_point/result', Assignment1ActionResult, goal_callback)"
   ]
  },
  {
   "cell_type": "code",
   "execution_count": 22,
   "id": "1ef1a6ba",
   "metadata": {},
   "outputs": [],
   "source": [
    "#PLOT VELOCITY"
   ]
  },
  {
   "cell_type": "code",
   "execution_count": 23,
   "id": "3f4614e2",
   "metadata": {
    "scrolled": false
   },
   "outputs": [
    {
     "data": {
      "application/vnd.jupyter.widget-view+json": {
       "model_id": "960d9db9dcea4bbeb6736b4f7ef7e6b5",
       "version_major": 2,
       "version_minor": 0
      },
      "text/plain": [
       "Canvas(toolbar=Toolbar(toolitems=[('Home', 'Reset original view', 'home', 'home'), ('Back', 'Back to previous …"
      ]
     },
     "metadata": {},
     "output_type": "display_data"
    },
    {
     "data": {
      "application/vnd.jupyter.widget-view+json": {
       "model_id": "35e714664a7f40bfb96990e30fcd3c1a",
       "version_major": 2,
       "version_minor": 0
      },
      "text/plain": [
       "Canvas(toolbar=Toolbar(toolitems=[('Home', 'Reset original view', 'home', 'home'), ('Back', 'Back to previous …"
      ]
     },
     "metadata": {},
     "output_type": "display_data"
    }
   ],
   "source": [
    "velocity_figure, velocity_axis = plt.subplots(nrows=2)\n",
    "ax = plt.subplots()\n",
    "#https://matplotlib.org/stable/api/_as_gen/matplotlib.pyplot.subplots.html\n",
    "#https://matplotlib.org/stable/api/axes_api.html\n",
    "\n",
    "ax0, ax1 = velocity_axis.flatten() #flatten() function return a copy of the array collapsed into one dimension.\n",
    "\n",
    "ax0.set_xticks([])\n",
    "ax0.set_ylim(0.0, max_vel_)\n",
    "ax0.set_title(\"LINEAR VELOCITY\")\n",
    "\n",
    "total_lin_vel, = ax0.plot([], [], 'black', label='TOTAL LINEAR VELOCITY')\n",
    "actual_lin_vel, = ax0.plot([], [], 'red', label='ACTUAL LINEAR VELOCITY', linewidth = 3.0)\n",
    "\n",
    "ax1.set_xticks([])\n",
    "ax1.set_ylim(0.0, max_vel_)\n",
    "ax1.set_title(\"ANGULAR VELOCITY\")\n",
    "\n",
    "total_ang_vel, = ax1.plot([], [], 'black', label='TOTAL ANGULAR VELOCITY')\n",
    "actual_ang_vel, = ax1.plot([], [], 'red', label='ACTUAL ANGULAR VELOCITY', linewidth = 3.0)\n",
    "\n",
    "def velocity_graph():\n",
    "    total_ang_vel.set_data([], [])\n",
    "    total_lin_vel.set_data([], [])\n",
    "    \n",
    "    actual_ang_vel.set_data([], [])    \n",
    "    actual_lin_vel.set_data([], [])        \n",
    "\n",
    "    return (total_lin_vel, actual_lin_vel, total_ang_vel, actual_ang_vel)\n",
    "\n",
    "def velocity_plot(i):\n",
    "    total_ang_vel.set_data(t, vel_w_)\n",
    "    total_lin_vel.set_data(t, vel_x_)\n",
    "    \n",
    "    actual_ang_vel.set_data(t, odom_vel_w)\n",
    "    actual_lin_vel.set_data(t, odom_vel_x)    \n",
    "    \n",
    "    return (total_lin_vel, actual_lin_vel, total_ang_vel, actual_ang_vel)\n",
    "\n",
    "line_plot = animation.FuncAnimation(velocity_figure, velocity_plot, init_func = velocity_graph, frames = 100, interval = 10, blit = True)"
   ]
  },
  {
   "cell_type": "code",
   "execution_count": null,
   "id": "8f879e7c",
   "metadata": {},
   "outputs": [],
   "source": []
  }
 ],
 "metadata": {
  "hide_input": false,
  "kernelspec": {
   "display_name": "Python 3 (ipykernel)",
   "language": "python",
   "name": "python3"
  },
  "language_info": {
   "codemirror_mode": {
    "name": "ipython",
    "version": 3
   },
   "file_extension": ".py",
   "mimetype": "text/x-python",
   "name": "python",
   "nbconvert_exporter": "python",
   "pygments_lexer": "ipython3",
   "version": "3.8.10"
  },
  "toc": {
   "base_numbering": 1,
   "nav_menu": {},
   "number_sections": true,
   "sideBar": true,
   "skip_h1_title": false,
   "title_cell": "Table of Contents",
   "title_sidebar": "Contents",
   "toc_cell": false,
   "toc_position": {},
   "toc_section_display": true,
   "toc_window_display": false
  },
  "varInspector": {
   "cols": {
    "lenName": 16,
    "lenType": 16,
    "lenVar": 40
   },
   "kernels_config": {
    "python": {
     "delete_cmd_postfix": "",
     "delete_cmd_prefix": "del ",
     "library": "var_list.py",
     "varRefreshCmd": "print(var_dic_list())"
    },
    "r": {
     "delete_cmd_postfix": ") ",
     "delete_cmd_prefix": "rm(",
     "library": "var_list.r",
     "varRefreshCmd": "cat(var_dic_list()) "
    }
   },
   "types_to_exclude": [
    "module",
    "function",
    "builtin_function_or_method",
    "instance",
    "_Feature"
   ],
   "window_display": false
  }
 },
 "nbformat": 4,
 "nbformat_minor": 5
}
