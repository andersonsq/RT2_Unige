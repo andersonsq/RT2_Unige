{
 "cells": [
  {
   "cell_type": "markdown",
   "id": "cf233c00",
   "metadata": {},
   "source": [
    "# DESCRIPTION\n",
    "\n",
    "This second assignment has the goal of replace the User Interface of the first RT assignment with a nicer user interface developed with a Jupyter Notebook.\n",
    "In particular we want the user interface to be able of:\n",
    "\n",
    "- Starting / stopping the robot “random position” behaviour by using two buttons; \n",
    "- Setting the linear and angular velocity by using two sliders;\n",
    "- Directly controlling the robot movements by using 5 Buttons, (forward, right, backward,  left and STOP).\n",
    "\n",
    "Notice that if the robot is performing the random movement and the user wants to directly control the robot movements, the goal should be canceled, and the “random position” behaviour stopped. \n",
    "The velocity set with the sliders should also be used for the “random position” behaviour.\n",
    "\n",
    "We want to have a section of our jupyter Notebook for displaying some graphical \n",
    "information to the user. In particular we want to display:\n",
    "\n",
    "- A line plot for visualizing `cmd_vel` vs. actual velocity (for linear and angular velocity);\n",
    "- A bar plot displaying the number of reached targets and cancelled targets;\n",
    "- A hist plot showing the time required to reach targets;\n",
    "- A xy graph showing the robot’s position and the orientation (**optional**).\n",
    "\n"
   ]
  },
  {
   "cell_type": "markdown",
   "id": "c726aad4",
   "metadata": {
    "scrolled": true
   },
   "source": [
    "# LIBRARIES"
   ]
  },
  {
   "cell_type": "code",
   "execution_count": 1,
   "id": "f32667dc",
   "metadata": {},
   "outputs": [],
   "source": [
    "import matplotlib as mpl\n",
    "import matplotlib.pyplot as plt\n",
    "from matplotlib import animation\n",
    "\n",
    "import numpy as np\n",
    "import math\n",
    "%matplotlib widget\n",
    "\n",
    "import ipywidgets as widgets\n",
    "from jupyros import ros3d\n",
    "from ipywidgets import Button, ButtonStyle, FloatSlider, Layout, VBox, GridBox, HBox \n",
    "\n",
    "import jupyros as jr\n",
    "import rospy\n",
    "\n",
    "from nav_msgs.msg import Odometry\n",
    "from geometry_msgs.msg import Twist\n",
    "from std_msgs.msg import String\n",
    "from rt2_assignment1.srv import Command, Velocity\n",
    "\n",
    "from IPython.display import display\n",
    "\n",
    "from tf import transformations"
   ]
  },
  {
   "cell_type": "markdown",
   "id": "d19437dc",
   "metadata": {},
   "source": [
    "## Classes"
   ]
  },
  {
   "cell_type": "markdown",
   "id": "5053ba15",
   "metadata": {},
   "source": [
    "### Control_direction (manual)\n",
    "\n",
    "Class created to interact with the mobile robot using 4 directional keyboard buttons and a virtual STOP button.\n",
    "<br>It is also possible to see the class created to control the robot velocity, this class has a direct connection with our angular and linear slider that publish the velocities values in our `/cmd_vel` topic."
   ]
  },
  {
   "cell_type": "code",
   "execution_count": 2,
   "id": "ac033165",
   "metadata": {},
   "outputs": [],
   "source": [
    "class Control_direction:\n",
    "    \n",
    "    def __init__(self, linear_slider, angular_slider):\n",
    "        \n",
    "        self.velocity_pub = rospy.Publisher('/cmd_vel', Twist, queue_size=1)\n",
    "        self.twist = Twist()\n",
    "        self.foward = 0.0\n",
    "        self.turn = 0.0\n",
    "        \n",
    "        self.linear_slider = linear_slider\n",
    "        self.angular_slider = angular_slider\n",
    "        \n",
    "    def stop(self):\n",
    "        self.foward = 0.0\n",
    "        self.turn = 0.0\n",
    "    \n",
    "    def forward(self):\n",
    "        self.foward = 1.0\n",
    "        self.turn = 0.0\n",
    "        \n",
    "    def backward(self):\n",
    "        self.foward = -1.0\n",
    "        self.turn = 0.0\n",
    "    \n",
    "    def CW(self):           #Clock wise\n",
    "        self.foward = 0.0\n",
    "        self.turn = 1.0\n",
    "    \n",
    "    def CCW(self):          #Counter clock wise\n",
    "        self.foward = 0.0\n",
    "        self.turn = -1.0\n",
    "           \n",
    "    def Twist_pub(self):\n",
    "        self.twist.angular.z = self.turn*angular_slider.value\n",
    "        self.twist.linear.x = self.foward*linear_slider.value        \n",
    "        \n",
    "        self.velocity_pub.publish(self.twist)"
   ]
  },
  {
   "cell_type": "markdown",
   "id": "a679b9f2",
   "metadata": {},
   "source": [
    "### Store_value\n",
    "\n",
    "Class created to generate queues with a maximum size. \n",
    "<br>Here we use it to keep the recent values that will used to plot the velocity and odometry graphs."
   ]
  },
  {
   "cell_type": "code",
   "execution_count": 3,
   "id": "1fcd7e38",
   "metadata": {},
   "outputs": [],
   "source": [
    "class Store_value(list):\n",
    "    \n",
    "    def append(self, data):\n",
    "        super().append(data)\n",
    "        if super().__len__() > self.max_size:\n",
    "            super().pop(0)    \n",
    "            \n",
    "    def __init__(self, max_size, space=[]):\n",
    "        super().__init__(space)\n",
    "        self.max_size = max_size    "
   ]
  },
  {
   "cell_type": "markdown",
   "id": "2d05c6ab",
   "metadata": {},
   "source": [
    "## Global variables\n",
    "\n",
    "Used to store our most used variables (easy access)"
   ]
  },
  {
   "cell_type": "code",
   "execution_count": 4,
   "id": "7feb2381",
   "metadata": {},
   "outputs": [],
   "source": [
    "from enum import Enum\n",
    "output = widgets.Output()\n",
    "\n",
    "# Initial values for the velocities\n",
    "linear_value = 0.5\n",
    "angular_value = 0.5\n",
    "\n",
    "# Variables to store values\n",
    "odom_max_size = 1000\n",
    "odom_max_x = Store_value(odom_max_size)\n",
    "odom_max_y = Store_value(odom_max_size)\n",
    "odom_max_rot = 0\n",
    "\n",
    "vel_max_size = 100\n",
    "\n",
    "vel_x_ = Store_value(vel_max_size, [linear_value]*vel_max_size)\n",
    "odom_vel_x = Store_value(vel_max_size, [0]*vel_max_size)\n",
    "\n",
    "vel_w_ = Store_value(vel_max_size, [angular_value]*vel_max_size)\n",
    "odom_vel_w = Store_value(vel_max_size, [0]*vel_max_size)\n",
    "\n",
    "t = np.linspace(0, 1, vel_max_size)\n",
    "\n",
    "class RUN(Enum):\n",
    "    STOP = 0\n",
    "    START  = 1\n",
    "    ARROW  = 2\n",
    "\n",
    "run  = RUN.STOP\n",
    "\n",
    "# /user_interface Client service\n",
    "ui_client = None\n",
    "vel_client = None"
   ]
  },
  {
   "cell_type": "markdown",
   "id": "e66a4665",
   "metadata": {},
   "source": [
    "# WIDGETS"
   ]
  },
  {
   "cell_type": "markdown",
   "id": "517a46c6",
   "metadata": {},
   "source": [
    "## Slider velocity command (manual)\n",
    "\n",
    "Used to interact with the mobile robot, setting the velocities (angular and linear) through the `go_to_point` node and publishing in the `/vel` topic."
   ]
  },
  {
   "cell_type": "code",
   "execution_count": 6,
   "id": "95fd047b",
   "metadata": {
    "scrolled": true
   },
   "outputs": [
    {
     "data": {
      "application/vnd.jupyter.widget-view+json": {
       "model_id": "964a2740ff1944be8939b0c59b29fb2c",
       "version_major": 2,
       "version_minor": 0
      },
      "text/plain": [
       "HBox(children=(FloatSlider(value=0.5, description='Linear Velocity', max=1.5, step=0.05), FloatSlider(value=0.…"
      ]
     },
     "metadata": {},
     "output_type": "display_data"
    }
   ],
   "source": [
    "max_vel_ = 1.5\n",
    "linear_slider = widgets.FloatSlider(description = 'Linear Velocity', value = linear_value, min = 0.0,  max = max_vel_, step=0.05)\n",
    "angular_slider = widgets.FloatSlider(description = 'Angular Velocity', value = angular_value, min = 0.0,  max = max_vel_, step=0.05)\n",
    "\n",
    "def change_linear_vel(vel):\n",
    "    vel_client(vel[\"new\"], vel_w_[-1])\n",
    "\n",
    "def change_angular_vel(vel):\n",
    "    vel_client(vel_x_[-1], vel[\"new\"])\n",
    "    \n",
    "def printf(linear_slider, angular_slider):\n",
    "\tprint('{}*{}'.format(linear_slider, angular_slider))\n",
    "\n",
    "linear_slider.observe(change_linear_vel, names='value')\n",
    "angular_slider.observe(change_angular_vel, names='value')\n",
    "\n",
    "slider_command = HBox([linear_slider, angular_slider])\n",
    "display(slider_command)"
   ]
  },
  {
   "cell_type": "markdown",
   "id": "3112546d",
   "metadata": {},
   "source": [
    "## START/STOP button command (manual)\n",
    "\n",
    "Used to **STOP** and **START** the mobile robot behavior in an interactive way with 2 buttons."
   ]
  },
  {
   "cell_type": "code",
   "execution_count": 7,
   "id": "319359d7",
   "metadata": {},
   "outputs": [
    {
     "data": {
      "application/vnd.jupyter.widget-view+json": {
       "model_id": "d99775fa87514b959987ab4ae7538f81",
       "version_major": 2,
       "version_minor": 0
      },
      "text/plain": [
       "GridBox(children=(Button(description='STOP', layout=Layout(grid_area='button_stop', width='auto'), style=Butto…"
      ]
     },
     "metadata": {},
     "output_type": "display_data"
    }
   ],
   "source": [
    "button_stop  = Button(description='STOP',\n",
    "               layout=Layout(width='auto', grid_area='button_stop'),\n",
    "               style=ButtonStyle(button_color='red'))\n",
    "\n",
    "button_start  = Button(description='START',\n",
    "                layout=Layout(width='auto', grid_area='button_start'),\n",
    "                style=ButtonStyle(button_color='green'))\n",
    "\n",
    "HBox([button_start, button_stop])\n",
    "\n",
    "GridBox(children=[button_stop, button_start],\n",
    "        layout=Layout(\n",
    "        width='100%',\n",
    "        grid_template_rows='auto auto',\n",
    "        grid_template_columns='0% 25%',\n",
    "        grid_template_areas='''\n",
    "        \". button_stop .\"\n",
    "        \". button_start .\"\n",
    "        ''')\n",
    "       )"
   ]
  },
  {
   "cell_type": "markdown",
   "id": "583fcfe3",
   "metadata": {},
   "source": [
    "## Direction button commands (manual)\n",
    "\n",
    "Used to control the mobile robot behavior in an interactive way with 4 directional buttons."
   ]
  },
  {
   "cell_type": "code",
   "execution_count": 8,
   "id": "4e927d22",
   "metadata": {
    "scrolled": true
   },
   "outputs": [
    {
     "data": {
      "application/vnd.jupyter.widget-view+json": {
       "model_id": "5cfc36c06e524571a75ca73b53fe4fa3",
       "version_major": 2,
       "version_minor": 0
      },
      "text/plain": [
       "GridBox(children=(Button(description='↑', layout=Layout(grid_area='button_foward', width='auto'), style=Button…"
      ]
     },
     "metadata": {},
     "output_type": "display_data"
    }
   ],
   "source": [
    "button_foward = Button(description='\\u2191', #Unicode Character 'UPWARDS ARROW' (U+2191)\n",
    "                 layout=Layout(width='auto', grid_area='button_foward'),                        \n",
    "                 style=ButtonStyle(button_color='lightgray'))\n",
    "\n",
    "button_backwards = Button(description='\\u2193', #Unicode Character 'DOWNWARDS ARROW' (U+2193)\n",
    "                 layout=Layout(width='auto', grid_area='button_backwards'),\n",
    "                 style=ButtonStyle(button_color='lightgray'))\n",
    "\n",
    "button_right = Button(description='\\u2192', #Unicode Character 'RIGHTWARDS ARROW' (U+2192)\n",
    "                 layout=Layout(width='auto', grid_area='button_right'),\n",
    "                 style=ButtonStyle(button_color='lightgray'))\n",
    "\n",
    "button_left = Button(description='\\u2190', #Unicode Character 'LEFTWARDS ARROW' (U+2190)\n",
    "                 layout=Layout(width='auto', grid_area='button_left'),\n",
    "                 style=ButtonStyle(button_color='lightgray'))\n",
    "\n",
    "HBox([button_foward, button_backwards, button_left, button_right])\n",
    "\n",
    "GridBox(children=[button_foward, button_backwards, button_left, button_right],\n",
    "        layout=Layout(\n",
    "        width='100%',\n",
    "        grid_template_rows='auto auto auto',\n",
    "        grid_template_columns='25% 25% 25%',\n",
    "        grid_template_areas='''\n",
    "        \". button_foward .\"\n",
    "        \"button_left . button_right\"\n",
    "        \". button_backwards .\"\n",
    "        ''')\n",
    "       )"
   ]
  },
  {
   "cell_type": "markdown",
   "id": "e9727b3d",
   "metadata": {},
   "source": [
    "# CALLBACK FUNCTIONS"
   ]
  },
  {
   "cell_type": "markdown",
   "id": "1e24b8ac",
   "metadata": {},
   "source": [
    "Callback functions for all the buttons."
   ]
  },
  {
   "cell_type": "code",
   "execution_count": 9,
   "id": "6568002d",
   "metadata": {},
   "outputs": [],
   "source": [
    "pad = Control_direction(linear_slider, angular_slider) \n",
    "    \n",
    "def robot_stop(button):\n",
    "    \"\"\"\n",
    "    robot_stop command callback\n",
    "    \n",
    "    Arguments: button (int)\n",
    "    \n",
    "    Description:\n",
    "    Request the service with the 'user_interface' node, if the robot is moving with in the 'go_to_point' behavior, when pressed 'stop' or the directional command, the robot stop\n",
    "    \"\"\"\n",
    "\n",
    "    global run\n",
    "    if run ==  RUN.START:\n",
    "        ui_client(\"stop\")\n",
    "    elif run == RUN.ARROW:\n",
    "        pad.stop()\n",
    "        pad.Twist_pub()\n",
    "    \n",
    "    run = RUN.STOP\n",
    "    \n",
    "def robot_start(button):\n",
    "    \"\"\"\n",
    "    robot_start command callback\n",
    "    \n",
    "    Arguments: button (int)\n",
    "    \n",
    "    Description:\n",
    "    Request the service with the 'user_interface' node, when pressed the button 'start', the robot start to move communicating with the 'go_to_point' node\n",
    "    \"\"\"\n",
    "\n",
    "    global run\n",
    "    if run != RUN.START:\n",
    "        ui_client(\"start\")\n",
    "        run = RUN.START        \n",
    "        \n",
    "def command_buttons(button):\n",
    "    \"\"\"\n",
    "    command_buttons command callback\n",
    "    \n",
    "    Arguments: button (int)\n",
    "    \n",
    "    Description:\n",
    "    Gives the user direct control over the robot's movements.\n",
    "    If the robot is already moving in an automatic way, it stop the robot\n",
    "    \"\"\"\n",
    "\n",
    "    global run\n",
    "\n",
    "    if run == RUN.START:\n",
    "        robot_stop(button)\n",
    "        \n",
    "    if button.layout.grid_area == 'button_foward':\n",
    "        pad.forward()\n",
    "    elif button.layout.grid_area == 'button_backwards':\n",
    "        pad.backward()\n",
    "    elif button.layout.grid_area == 'button_right':\n",
    "        pad.CW()\n",
    "    elif button.layout.grid_area == 'button_left':\n",
    "        pad.CCW()\n",
    "    else:\n",
    "        return\n",
    "    \n",
    "    run = RUN.ARROW    \n",
    "\n",
    "def odometry_callback(msg):\n",
    "    \"\"\"\n",
    "    odometry_callback command callback\n",
    "    \n",
    "    Arguments: button (int)\n",
    "    \n",
    "    Description:\n",
    "    Gives the user direct control over the robot's movements.\n",
    "    If the robot is already moving in an automatic way, it stop the robot\n",
    "    \"\"\"\n",
    "    \n",
    "    global odom_max_rot, odom_max_x, odom_max_y\n",
    "    \n",
    "    global run\n",
    "    \n",
    "    odom_max_x.append(msg.pose.pose.position.x)\n",
    "    odom_max_y.append(msg.pose.pose.position.y)\n",
    "    \n",
    "    quaternion = (\n",
    "        msg.pose.pose.orientation.x,\n",
    "        msg.pose.pose.orientation.y,\n",
    "        msg.pose.pose.orientation.z,\n",
    "        msg.pose.pose.orientation.w)\n",
    "    euler = transformations.euler_from_quaternion(quaternion)\n",
    "    odom_max_rot = euler[2]\n",
    "    \n",
    "    vel_x_.append(linear_slider.value)\n",
    "    vel_w_.append(angular_slider.value)\n",
    "    \n",
    "    odom_vel_x.append(msg.twist.twist.linear.x)   \n",
    "    odom_vel_w.append(msg.twist.twist.angular.z)\n",
    "    \n",
    "    if run == RUN.ARROW:\n",
    "        pad.Twist_pub()"
   ]
  },
  {
   "cell_type": "markdown",
   "id": "02c15e41",
   "metadata": {},
   "source": [
    "## Buttons communication"
   ]
  },
  {
   "cell_type": "code",
   "execution_count": 10,
   "id": "ab102b83",
   "metadata": {},
   "outputs": [],
   "source": [
    "button_stop.on_click(robot_stop)\n",
    "button_start.on_click(robot_start)\n",
    "button_foward.on_click(command_buttons)\n",
    "button_backwards.on_click(command_buttons)\n",
    "button_right.on_click(command_buttons)\n",
    "button_left.on_click(command_buttons)"
   ]
  },
  {
   "cell_type": "markdown",
   "id": "e622b429",
   "metadata": {},
   "source": [
    "# ROS "
   ]
  },
  {
   "cell_type": "markdown",
   "id": "139bf5b4",
   "metadata": {},
   "source": [
    "## Node"
   ]
  },
  {
   "cell_type": "code",
   "execution_count": 11,
   "id": "efab38e5",
   "metadata": {},
   "outputs": [],
   "source": [
    "rospy.init_node(\"jupyter_user_interface\")\n",
    "\n",
    "sub = rospy.Subscriber('/odom', Odometry, odometry_callback)\n",
    "\n",
    "rospy.wait_for_service('/vel')\n",
    "vel_client = rospy.ServiceProxy('/vel', Velocity)\n",
    "\n",
    "rospy.wait_for_service('/user_interface')\n",
    "ui_client = rospy.ServiceProxy('/user_interface', Command)"
   ]
  },
  {
   "cell_type": "markdown",
   "id": "f63e5f38",
   "metadata": {},
   "source": [
    "## Action"
   ]
  },
  {
   "cell_type": "markdown",
   "id": "84a99267",
   "metadata": {},
   "source": [
    "Used to read the action *goal* result direct from the topic `go_to_point`, this way we can keep track on the number of goals reached."
   ]
  },
  {
   "cell_type": "code",
   "execution_count": 12,
   "id": "ddf184eb",
   "metadata": {},
   "outputs": [],
   "source": [
    "from rt2_assignment1.msg import Assignment1ActionResult\n",
    "\n",
    "goal = {'reached':0, 'canceled':0}\n",
    "time = [] #empty\n",
    "\n",
    "def goal_callback(msg):\n",
    "    global goal\n",
    "    \n",
    "    if msg.result.result:\n",
    "        goal['reached'] += 1 #goal['reached'] + goal['reached']\n",
    "        duration = msg.header.stamp - msg.status.goal_id.stamp\n",
    "        time.append(duration.to_sec())\n",
    "    else:\n",
    "        goal['canceled'] += 1 #goal['canceled'] + goal['reached']\n",
    "\n",
    "goal_result = rospy.Subscriber('/go_to_point/result', Assignment1ActionResult, goal_callback)"
   ]
  },
  {
   "cell_type": "markdown",
   "id": "442ba7aa",
   "metadata": {},
   "source": [
    "# PLOTS "
   ]
  },
  {
   "cell_type": "markdown",
   "id": "d55ff192",
   "metadata": {},
   "source": [
    "## Velocity\n",
    "\n",
    "In this graph is possible to see the velocity that are coming from the `/odom` topic and compare with the values received from the angular and linear velocity sliders."
   ]
  },
  {
   "cell_type": "code",
   "execution_count": 13,
   "id": "3f4614e2",
   "metadata": {
    "scrolled": false
   },
   "outputs": [
    {
     "data": {
      "application/vnd.jupyter.widget-view+json": {
       "model_id": "39be25175c644d8490903dba307984ef",
       "version_major": 2,
       "version_minor": 0
      },
      "text/plain": [
       "Canvas(toolbar=Toolbar(toolitems=[('Home', 'Reset original view', 'home', 'home'), ('Back', 'Back to previous …"
      ]
     },
     "metadata": {},
     "output_type": "display_data"
    },
    {
     "data": {
      "application/vnd.jupyter.widget-view+json": {
       "model_id": "a932e141e86a4a6da3565de420b14124",
       "version_major": 2,
       "version_minor": 0
      },
      "text/plain": [
       "Canvas(toolbar=Toolbar(toolitems=[('Home', 'Reset original view', 'home', 'home'), ('Back', 'Back to previous …"
      ]
     },
     "metadata": {},
     "output_type": "display_data"
    }
   ],
   "source": [
    "velocity_figure, velocity_axis = plt.subplots(nrows=2)\n",
    "ax = plt.subplots()\n",
    "#https://matplotlib.org/stable/api/_as_gen/matplotlib.pyplot.subplots.html\n",
    "#https://matplotlib.org/stable/api/axes_api.html\n",
    "\n",
    "ax0, ax1 = velocity_axis.flatten() #flatten() function return a copy of the array collapsed into one dimension.\n",
    "\n",
    "ax0.set_xticks([])\n",
    "ax0.set_ylim(0.0, max_vel_)\n",
    "ax0.set_title(\"LINEAR VELOCITY\")\n",
    "\n",
    "total_lin_vel, = ax0.plot([], [], 'black', label='TOTAL LINEAR VELOCITY')\n",
    "actual_lin_vel, = ax0.plot([], [], 'red', label='ACTUAL LINEAR VELOCITY', linewidth = 3.0)\n",
    "\n",
    "ax1.set_xticks([])\n",
    "ax1.set_ylim(0.0, max_vel_)\n",
    "ax1.set_title(\"ANGULAR VELOCITY\")\n",
    "\n",
    "total_ang_vel, = ax1.plot([], [], 'black', label='TOTAL ANGULAR VELOCITY')\n",
    "actual_ang_vel, = ax1.plot([], [], 'red', label='ACTUAL ANGULAR VELOCITY', linewidth = 3.0)\n",
    "\n",
    "def velocity_graph():\n",
    "    total_ang_vel.set_data([], [])\n",
    "    total_lin_vel.set_data([], [])\n",
    "    \n",
    "    actual_ang_vel.set_data([], [])    \n",
    "    actual_lin_vel.set_data([], [])        \n",
    "\n",
    "    return (total_lin_vel, actual_lin_vel, total_ang_vel, actual_ang_vel)\n",
    "\n",
    "def velocity_plot(i):\n",
    "    total_ang_vel.set_data(t, vel_w_)\n",
    "    total_lin_vel.set_data(t, vel_x_)\n",
    "    \n",
    "    actual_ang_vel.set_data(t, odom_vel_w)\n",
    "    actual_lin_vel.set_data(t, odom_vel_x)    \n",
    "    \n",
    "    return (total_lin_vel, actual_lin_vel, total_ang_vel, actual_ang_vel)\n",
    "\n",
    "line_plot = animation.FuncAnimation(velocity_figure, velocity_plot, init_func = velocity_graph, frames = 100, interval = 10, blit = True)"
   ]
  },
  {
   "cell_type": "markdown",
   "id": "950791bf",
   "metadata": {},
   "source": [
    "## Goal (cancelled X reached)\n",
    "\n",
    "A bar plot displaying the number of canceled targets X reached targets"
   ]
  },
  {
   "cell_type": "code",
   "execution_count": 14,
   "id": "52698a07",
   "metadata": {},
   "outputs": [
    {
     "data": {
      "application/vnd.jupyter.widget-view+json": {
       "model_id": "763382b55842439fbcb725a3e63d1fb6",
       "version_major": 2,
       "version_minor": 0
      },
      "text/plain": [
       "Canvas(toolbar=Toolbar(toolitems=[('Home', 'Reset original view', 'home', 'home'), ('Back', 'Back to previous …"
      ]
     },
     "metadata": {},
     "output_type": "display_data"
    }
   ],
   "source": [
    "bar_chart, ax_chart = plt.subplots()\n",
    "\n",
    "ax_chart.set_ylim(0, 20) #Y axis goes from 0 to 20\n",
    "ax_chart.set_title(\"GOALS 'go_to_point' node\")\n",
    "\n",
    "result = np.array(['Reached','Cancelled'])\n",
    "\n",
    "bar_chart_plot = ax_chart.bar(result, [0,0], width = 1)\n",
    "\n",
    "def init_bar():\n",
    "    for aa, jj, color in zip(bar_chart_plot, goal.values(), ('green', 'orange')):\n",
    "        aa.set_height(jj)\n",
    "        aa.set_color(color)\n",
    "    return (bar_chart_plot,)\n",
    "\n",
    "def goal_bar_plot(j):\n",
    "    for aa, jj in zip(bar_chart_plot, goal.values()):\n",
    "        aa.set_height(jj)\n",
    "   \n",
    "    return (bar_chart_plot,)\n",
    "\n",
    "goal_result = animation.FuncAnimation(bar_chart, goal_bar_plot, init_func = init_bar, frames = 100, interval = 20, blit = True)"
   ]
  },
  {
   "cell_type": "markdown",
   "id": "316c7658",
   "metadata": {},
   "source": [
    "## Odometry\n",
    "\n",
    "An XY graph showing the robot’s position and orientation"
   ]
  },
  {
   "cell_type": "code",
   "execution_count": 15,
   "id": "e8cd92dd",
   "metadata": {},
   "outputs": [
    {
     "data": {
      "application/vnd.jupyter.widget-view+json": {
       "model_id": "6b8f559ee69e4920bda6503801734f66",
       "version_major": 2,
       "version_minor": 0
      },
      "text/plain": [
       "Canvas(toolbar=Toolbar(toolitems=[('Home', 'Reset original view', 'home', 'home'), ('Back', 'Back to previous …"
      ]
     },
     "metadata": {},
     "output_type": "display_data"
    }
   ],
   "source": [
    "odometry_figure, ax = plt.subplots() \n",
    "\n",
    "ax.set_ylim((-6, 6)) #-5 and 5 are the min and max values of my area, check state_machine.cpp for more info\n",
    "ax.set_xlim((-6, 6))\n",
    "\n",
    "odom_plot, = ax.plot([], [], 'blue') #actual odom position\n",
    "arrow_size = 1\n",
    "arrow_plot, = ax.plot([], [], 'pink', linewidth = 2) #orientation\n",
    "\n",
    "ax.set_ylabel(\"Y\")\n",
    "ax.set_xlabel(\"X\")\n",
    "ax.set_title(\"Robot position\")\n",
    "\n",
    "def init():\n",
    "    odom_plot.set_data([], [])\n",
    "    arrow_plot.set_data([], [])\n",
    "    return (odom_plot, arrow_plot)\n",
    "\n",
    "def Odometry_graph(i):\n",
    "    odom_plot.set_data(odom_max_x, odom_max_y)\n",
    "    odometry_y = odom_max_y[-1] + math.sin(odom_max_rot)*arrow_size\n",
    "    odometry_x = odom_max_x[-1] + math.cos(odom_max_rot)*arrow_size    \n",
    "    \n",
    "    arrow_plot.set_data((odom_max_x[-1], odometry_x), (odom_max_y[-1], odometry_y))\n",
    "    \n",
    "    return (odom_plot, arrow_plot)\n",
    "\n",
    "robot_position = animation.FuncAnimation(odometry_figure, Odometry_graph, init_func = init, frames = 100, interval = 10, blit = True)"
   ]
  },
  {
   "cell_type": "markdown",
   "id": "6293ef3d",
   "metadata": {},
   "source": [
    "## Time to reach target\n",
    "\n",
    "Histogram plotting the time needed to reach a goal."
   ]
  },
  {
   "cell_type": "code",
   "execution_count": 16,
   "id": "5d767f97",
   "metadata": {},
   "outputs": [
    {
     "data": {
      "application/vnd.jupyter.widget-view+json": {
       "model_id": "6b4a972fd9b4418ea122bcd3416dff6a",
       "version_major": 2,
       "version_minor": 0
      },
      "text/plain": [
       "Canvas(toolbar=Toolbar(toolitems=[('Home', 'Reset original view', 'home', 'home'), ('Back', 'Back to previous …"
      ]
     },
     "metadata": {},
     "output_type": "display_data"
    }
   ],
   "source": [
    "time_figure, time_axis = plt.subplots()\n",
    "\n",
    "time_axis.set_title(\"Histogram 'go_to_point' node\")\n",
    "\n",
    "time_axis.set_ylabel(\"goals\")\n",
    "time_axis.set_xlabel(\"time in sec\")\n",
    "\n",
    "time_axis.set_ylim((0, 5))\n",
    "time_axis.set_xlim((0, 40))\n",
    "\n",
    "#total_time, _, _,  _, _, _ = time_axis.hist([], bins = 30, alpha = 0.5, histtype = 'stepfilled', color='steelblue', align = 'left')\n",
    "total_time, _, _ = time_axis.hist([], bins = 30, align = 'left')\n",
    "\n",
    "def time_graph(j):\n",
    "    time_axis.cla()\n",
    "    time_axis.set_title(\"Histogram 'go_to_point' node\")\n",
    "\n",
    "    time_axis.set_ylabel(\"goals\")\n",
    "    time_axis.set_xlabel(\"time in sec\")\n",
    "   \n",
    "    time_axis.set_ylim((0, 10))\n",
    "    time_axis.set_xlim((0, 60))\n",
    "\n",
    "    total_time, _, _ = time_axis.hist(time, bins = 30, align = 'left')\n",
    "    #total_time, _, _,  _, _, _ = time_axis.hist(time, bins = 30, alpha = 0.5, histtype = 'stepfilled', color = 'steelblue', align = 'left')\n",
    "\n",
    "    return (total_time,)\n",
    "\n",
    "time_plot = animation.FuncAnimation(time_figure, time_graph, frames = 100, interval = 200, blit = True)"
   ]
  }
 ],
 "metadata": {
  "hide_input": false,
  "kernelspec": {
   "display_name": "Python 3 (ipykernel)",
   "language": "python",
   "name": "python3"
  },
  "language_info": {
   "codemirror_mode": {
    "name": "ipython",
    "version": 3
   },
   "file_extension": ".py",
   "mimetype": "text/x-python",
   "name": "python",
   "nbconvert_exporter": "python",
   "pygments_lexer": "ipython3",
   "version": "3.8.10"
  },
  "toc": {
   "base_numbering": 1,
   "nav_menu": {},
   "number_sections": true,
   "sideBar": true,
   "skip_h1_title": false,
   "title_cell": "Table of Contents",
   "title_sidebar": "Contents",
   "toc_cell": false,
   "toc_position": {},
   "toc_section_display": true,
   "toc_window_display": false
  },
  "varInspector": {
   "cols": {
    "lenName": 16,
    "lenType": 16,
    "lenVar": 40
   },
   "kernels_config": {
    "python": {
     "delete_cmd_postfix": "",
     "delete_cmd_prefix": "del ",
     "library": "var_list.py",
     "varRefreshCmd": "print(var_dic_list())"
    },
    "r": {
     "delete_cmd_postfix": ") ",
     "delete_cmd_prefix": "rm(",
     "library": "var_list.r",
     "varRefreshCmd": "cat(var_dic_list()) "
    }
   },
   "types_to_exclude": [
    "module",
    "function",
    "builtin_function_or_method",
    "instance",
    "_Feature"
   ],
   "window_display": false
  }
 },
 "nbformat": 4,
 "nbformat_minor": 5
}
